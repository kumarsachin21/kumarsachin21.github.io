{
 "cells": [
  {
   "cell_type": "code",
   "execution_count": null,
   "id": "4f0a6e80",
   "metadata": {},
   "outputs": [],
   "source": [
    "import numpy as np\n",
    "import matplotlib.pyplot as plt\n",
    "import seaborn as sns\n",
    "import pandas as pd\n",
    "import plotly.graph_objs as go\n",
    "import os\n",
    "import gc"
   ]
  },
  {
   "cell_type": "code",
   "execution_count": null,
   "id": "b93c8b0d",
   "metadata": {},
   "outputs": [],
   "source": [
    "#import for preprocessing\n",
    "import re  # remove regular html tags\n",
    "from string import punctuation \n",
    "from nltk.corpus import stopwords      # stopwords for filtering out useless word expression(eg. as, in, is, a, the etc.)\n",
    "from scipy.spatial import distance                        # measure distance in case of calulating similarity\n",
    "from nltk.stem import PorterStemmer    # to do stemming ( to find out the base words)\n",
    "from nltk.stem import WordNetLemmatizer\n",
    "from fuzzywuzzy import fuzz         #\n",
    "from bs4 import BeautifulSoup\n",
    "#from MulticoreTSNE import MulticoreTSNE as TSNE  #to visualize after dimensionality reduction\n",
    "from wordcloud import WordCloud, STOPWORDS    # to get image of most occuring words\n",
    "from os import path                    # to get files in os\n",
    "from PIL import Image                  # to work with images\n",
    "from multiprocessing import Pool       # very important to divide work in different cores\n",
    "from sklearn.feature_extraction.text import CountVectorizer,TfidfVectorizer\n",
    "from sklearn.metrics.pairwise import cosine_similarity\n",
    "from sklearn.model_selection import train_test_split\n",
    "from xgboost import XGBClassifier\n",
    "from sklearn.metrics import confusion_matrix,classification_report,f1_score,accuracy_score"
   ]
  },
  {
   "cell_type": "code",
   "execution_count": 6,
   "id": "8d6b5cd2",
   "metadata": {},
   "outputs": [
    {
     "data": {
      "text/plain": [
       "(404351, 6)"
      ]
     },
     "execution_count": 6,
     "metadata": {},
     "output_type": "execute_result"
    }
   ],
   "source": [
    "data=pd.read_csv('questions.csv')\n",
    "data.shape"
   ]
  },
  {
   "cell_type": "code",
   "execution_count": null,
   "id": "acc5f362",
   "metadata": {},
   "outputs": [],
   "source": [
    "df=data.head(1000)\n",
    "df.head()"
   ]
  },
  {
   "cell_type": "code",
   "execution_count": null,
   "id": "7fce9ba7",
   "metadata": {},
   "outputs": [],
   "source": [
    "#distribution of data for different count\n",
    "df['is_duplicate'].value_counts()"
   ]
  },
  {
   "cell_type": "code",
   "execution_count": null,
   "id": "23e77131",
   "metadata": {},
   "outputs": [],
   "source": [
    "print(\"length of data:\",len(df))\n",
    "print(\"shape of data:\",df.shape)"
   ]
  },
  {
   "cell_type": "code",
   "execution_count": null,
   "id": "fbc54789",
   "metadata": {},
   "outputs": [],
   "source": [
    "df.info()"
   ]
  },
  {
   "cell_type": "code",
   "execution_count": 11,
   "id": "626103b8",
   "metadata": {},
   "outputs": [
    {
     "name": "stdout",
     "output_type": "stream",
     "text": [
      "Empty DataFrame\n",
      "Columns: [id, qid1, qid2, question1, question2, is_duplicate]\n",
      "Index: []\n"
     ]
    }
   ],
   "source": [
    "nan_rows=df[df.isnull().any(1)]\n",
    "print(nan_rows)"
   ]
  },
  {
   "cell_type": "code",
   "execution_count": 12,
   "id": "475c226a",
   "metadata": {},
   "outputs": [
    {
     "name": "stdout",
     "output_type": "stream",
     "text": [
      "Empty DataFrame\n",
      "Columns: [id, qid1, qid2, question1, question2, is_duplicate]\n",
      "Index: []\n"
     ]
    }
   ],
   "source": [
    "df=df.fillna('')\n",
    "nan_rows=df[df.isnull().any(1)]\n",
    "print(nan_rows)"
   ]
  },
  {
   "cell_type": "code",
   "execution_count": 13,
   "id": "c5e052c9",
   "metadata": {},
   "outputs": [
    {
     "data": {
      "text/plain": [
       "id              0\n",
       "qid1            0\n",
       "qid2            0\n",
       "question1       0\n",
       "question2       0\n",
       "is_duplicate    0\n",
       "dtype: int64"
      ]
     },
     "execution_count": 13,
     "metadata": {},
     "output_type": "execute_result"
    }
   ],
   "source": [
    "df.isna().sum()"
   ]
  },
  {
   "cell_type": "markdown",
   "id": "cfe6726d",
   "metadata": {},
   "source": [
    "# number of unique questions\n"
   ]
  },
  {
   "cell_type": "code",
   "execution_count": 14,
   "id": "6561fd63",
   "metadata": {},
   "outputs": [
    {
     "name": "stdout",
     "output_type": "stream",
     "text": [
      "0            1\n",
      "1            3\n",
      "2            5\n",
      "3            7\n",
      "4            9\n",
      "         ...  \n",
      "39995    39898\n",
      "39996    39900\n",
      "39997    39902\n",
      "39998    39904\n",
      "39999    39906\n",
      "Length: 40000, dtype: int64\n",
      "total number of unique questions are:39906\n",
      "\n",
      "the total number of question occur more than one time:91 \n",
      "\n",
      "maximum number of time a question is repeated: 3\n",
      "\n",
      "minimum number of times the question is repeated: 1\n",
      "\n"
     ]
    }
   ],
   "source": [
    "qids=pd.Series(df['qid1'].tolist()+ df['qid2'].tolist())\n",
    "print(qids)\n",
    "unique_qs=len(np.unique(qids))\n",
    "qs_morethan_onetime=np.sum(qids.value_counts()>1)\n",
    "print(\"total number of unique questions are:{}\\n\".format(unique_qs))\n",
    "print(\"the total number of question occur more than one time:{} \\n\".format(qs_morethan_onetime))\n",
    "print(\"maximum number of time a question is repeated: {}\\n\".format(max(qids.value_counts())))\n",
    "print(\"minimum number of times the question is repeated: {}\\n\".format(min(qids.value_counts())))\n"
   ]
  },
  {
   "cell_type": "code",
   "execution_count": 15,
   "id": "3f54c200",
   "metadata": {},
   "outputs": [
    {
     "name": "stderr",
     "output_type": "stream",
     "text": [
      "F:\\New folder\\Anaconda\\lib\\site-packages\\seaborn\\_decorators.py:36: FutureWarning: Pass the following variables as keyword args: x, y. From version 0.12, the only valid positional argument will be `data`, and passing other arguments without an explicit keyword will result in an error or misinterpretation.\n",
      "  warnings.warn(\n"
     ]
    },
    {
     "data": {
      "image/png": "[encoded data removed]",
      "text/plain": [
       "<Figure size 720x432 with 1 Axes>"
      ]
     },
     "metadata": {
      "needs_background": "light"
     },
     "output_type": "display_data"
    }
   ],
   "source": [
    "x=[\"Unique questions\",\"Repeated questions\"]\n",
    "y=[unique_qs,qs_morethan_onetime]\n",
    "plt.figure(figsize=(10,6))\n",
    "plt.title(\"Graph representing unique questions and repeated questions\")\n",
    "sns.barplot(x,y)\n",
    "plt.show()"
   ]
  },
  {
   "cell_type": "code",
   "execution_count": 16,
   "id": "34d86081",
   "metadata": {},
   "outputs": [
    {
     "data": {
      "text/plain": [
       "id                                                              1\n",
       "qid1                                                            3\n",
       "qid2                                                            4\n",
       "question1       What is the story of Kohinoor (Koh-i-Noor) Dia...\n",
       "question2       What would happen if the Indian government sto...\n",
       "is_duplicate                                                    0\n",
       "Name: 1, dtype: object"
      ]
     },
     "execution_count": 16,
     "metadata": {},
     "output_type": "execute_result"
    }
   ],
   "source": [
    "df.loc[1]"
   ]
  },
  {
   "cell_type": "code",
   "execution_count": 29,
   "id": "6d549a6d",
   "metadata": {},
   "outputs": [],
   "source": [
    "SPECIAL_TOKENS = {'non-ascii': 'non_ascii_word'}\n",
    "def normalized_word(text,stem_words=True):\n",
    "    def pad_str(s):\n",
    "        return ' '+s+' ' \n",
    "    if pd.isnull(text):     # if null\n",
    "        return ''\n",
    "    #Empty question\n",
    "    if type(text)!=str or text==' ':\n",
    "        return ''\n",
    "    text=re.sub(\"\\'s\",\" \",text)    # there are 2 cases sachin is and sachin's(his), these are not sererable and choose to kill 's'\n",
    "    #text=re.sub(\"\\'ve\",\"have\",text)  \n",
    "    text=re.sub(\"whats\",\"what is\",text,flags=re.IGNORECASE)    # USE FLAG=IGNORECASE TO MAKE IT CASE INSENSITIVE\n",
    "    text=re.sub(\"n't\",\"not\",text)               #replace n't to not\n",
    "    text=re.sub(\"won't\",\"will not\",text,flags=re.IGNORECASE)\n",
    "    text=re.sub(\"i'm\",\"i am\",text,flags=re.IGNORECASE)\n",
    "    #text=re.sub(\"\\'re\",\"are\",text)\n",
    "    text=re.sub(\"can't\",\"can not\",text)\n",
    "    text=re.sub(\"\\'d\",\"would\",text)\n",
    "    #text=re.sub(\"e\\.g\\.\",\" eg \",text,flags=re.IGNORECASE)\n",
    "    text=re.sub(\"b\\.g\\.\",\" bg \",text,flags=re.IGNORECASE)\n",
    "    #text=re.sub(\"e-mail\",\"email\",text,flags=re.IGNORECASE)\n",
    "    text=re.sub(\"(the[\\s]+|The[\\s]+)?U\\.S\\.A\\.\",\"America\",text,flags=re.IGNORECASE)\n",
    "    text=re.sub(\"(the[\\s]+|The[\\s]+)?Unites State(s)?\",\"America\",text,flags=re.IGNORECASE)\n",
    "    text=re.sub(\"\\(s\\)\",\"\",text)\n",
    "    #text=re.sub(\"[c-fC-F]\\:\\/\",\" disk \",text)\n",
    "    text=re.sub('(?<=[0-9])\\,(?=[0-9])',\"\",text)      # remove comma between numbers like 15,000-> 15000\n",
    "    ###add padding to punctuations and special chars\n",
    "    text=re.sub('\\$',\"dollar\",text)\n",
    "    text=re.sub('\\%',\"percent\",text)\n",
    "    text=re.sub('\\&',\"and\",text)\n",
    "    #text=re.sub('[^\\x00-\\x7F]+', pad_str(SPECIAL_TOKENS['non-ascii']), text) \n",
    "    #indian currency\n",
    "    text=re.sub(\"(?<=[0-9])rs\",\"rs\",text,flags=re.IGNORECASE)\n",
    "    text=re.sub(\"rs(?=[0-9])\",\"rs\",text,flags=re.IGNORECASE)\n",
    "    ## #cleaning text rules\n",
    "    #text=re.sub(r\"(the[\\s]+|The[\\s]+)?US(A)?\",\"America\",text,flags=re.IGNORECASE)\n",
    "    text=re.sub(r\"UK\",\"England\",text,flags=re.IGNORECASE)\n",
    "    text=re.sub(r\"switzerland\",\"Switzerland\",text,flags=re.IGNORECASE)\n",
    "    #text=re.sub(r\"india\",\"India\",text)\n",
    "    text=re.sub(r\"china\",\"China\",text)\n",
    "    text=re.sub(r\"chinese\",\"Chinese\",text)\n",
    "    text=re.sub(r\"imrovement\",\"improvement\",text)\n",
    "    text=re.sub(r\"intially\",\"initially\",text)\n",
    "    text=re.sub(r\"quora\",\"Quora\",text,flags=re.IGNORECASE)\n",
    "    text=re.sub(r\"dms\",\"direct message\",text,flags=re.IGNORECASE)\n",
    "    text=re.sub(r\"actived\",\"active\",text,flags=re.IGNORECASE)\n",
    "    text=re.sub(r\"cs\",\"computer science\",text,flags=re.IGNORECASE)\n",
    "    text=re.sub(r\"demonitization\",\"demonetization\",text,flags=re.IGNORECASE)\n",
    "    text=re.sub(r\"kms\",\"kilometers\",text,flags=re.IGNORECASE)\n",
    "    text=re.sub(r\"upvote\",\"up vote\",text,flags=re.IGNORECASE)\n",
    "    text=re.sub(r\"iPhone\",\"phone\",text,flags=re.IGNORECASE)\n",
    "    text=re.sub(r\"\\0rs\",\"rs\",text,flags=re.IGNORECASE)\n",
    "    text=re.sub(r\"ios\",\"IOS\",text,flags=re.IGNORECASE)\n",
    "    text=re.sub(r\"gps\",\"GPS\",text,flags=re.IGNORECASE)\n",
    "    text=re.sub(r\"gst\",\"GST\",text,flags=re.IGNORECASE)\n",
    "    text=re.sub(r\"programing\",\"programming\",text,flags=re.IGNORECASE)\n",
    "    text=re.sub(r\"bestfriend\",\"best friend\",text,flags=re.IGNORECASE)\n",
    "    text=re.sub(r\"dna\",\"DNA\",text,flags=re.IGNORECASE)\n",
    "    text=re.sub(r\"banglore\",\"Banglore\",text,flags=re.IGNORECASE)\n",
    "    text=re.sub(r\"III\",\"3\",text)\n",
    "    text=re.sub(r\" J K \",\"JK\",text,flags=re.IGNORECASE)\n",
    "    text=re.sub(r\" J\\.K\\.\",\"JK\",text,flags=re.IGNORECASE)\n",
    "    ##replace the float number with random number\n",
    "    text=re.sub(r\"[0-9]+\\.[0-9]+\",\"87\",text)\n",
    "    \n",
    "    ##removing punctuations\n",
    "    text=[word for word in text if word not in punctuation]\n",
    "    text=''.join(text)\n",
    "    text=text.lower()\n",
    "    ##return a list of words\n",
    "    return text"
   ]
  },
  {
   "cell_type": "code",
   "execution_count": 32,
   "id": "7f2408c0",
   "metadata": {},
   "outputs": [
    {
     "ename": "AttributeError",
     "evalue": "'DataFrameGroupBy' object has no attribute 'shape'",
     "output_type": "error",
     "traceback": [
      "\u001b[1;31m---------------------------------------------------------------------------\u001b[0m",
      "\u001b[1;31mAttributeError\u001b[0m                            Traceback (most recent call last)",
      "\u001b[1;32mC:\\Users\\SGCOMP~1\\AppData\\Local\\Temp/ipykernel_6536/2211488072.py\u001b[0m in \u001b[0;36m<module>\u001b[1;34m\u001b[0m\n\u001b[0;32m      1\u001b[0m \u001b[0mpair_duplicates\u001b[0m\u001b[1;33m=\u001b[0m\u001b[0mdf\u001b[0m\u001b[1;33m[\u001b[0m\u001b[1;33m[\u001b[0m\u001b[1;34m'qid1'\u001b[0m\u001b[1;33m,\u001b[0m\u001b[1;34m'qid2'\u001b[0m\u001b[1;33m,\u001b[0m\u001b[1;34m'is_duplicate'\u001b[0m\u001b[1;33m]\u001b[0m\u001b[1;33m]\u001b[0m\u001b[1;33m.\u001b[0m\u001b[0mgroupby\u001b[0m\u001b[1;33m(\u001b[0m\u001b[1;33m[\u001b[0m\u001b[1;34m'qid1'\u001b[0m\u001b[1;33m,\u001b[0m\u001b[1;34m'qid2'\u001b[0m\u001b[1;33m,\u001b[0m\u001b[1;34m'is_duplicate'\u001b[0m\u001b[1;33m]\u001b[0m\u001b[1;33m)\u001b[0m\u001b[1;33m\u001b[0m\u001b[1;33m\u001b[0m\u001b[0m\n\u001b[1;32m----> 2\u001b[1;33m \u001b[0mprint\u001b[0m\u001b[1;33m(\u001b[0m\u001b[1;34m\"number of duplicate questions\"\u001b[0m\u001b[1;33m.\u001b[0m\u001b[0mformat\u001b[0m\u001b[1;33m(\u001b[0m\u001b[0mpair_duplicates\u001b[0m\u001b[1;33m.\u001b[0m\u001b[0mshape\u001b[0m\u001b[1;33m(\u001b[0m\u001b[1;36m0\u001b[0m\u001b[1;33m)\u001b[0m\u001b[1;33m)\u001b[0m\u001b[1;33m)\u001b[0m\u001b[1;33m\u001b[0m\u001b[1;33m\u001b[0m\u001b[0m\n\u001b[0m\u001b[0;32m      3\u001b[0m \u001b[1;33m\u001b[0m\u001b[0m\n",
      "\u001b[1;32mF:\\New folder\\Anaconda\\lib\\site-packages\\pandas\\core\\groupby\\groupby.py\u001b[0m in \u001b[0;36m__getattr__\u001b[1;34m(self, attr)\u001b[0m\n\u001b[0;32m    909\u001b[0m             \u001b[1;32mreturn\u001b[0m \u001b[0mself\u001b[0m\u001b[1;33m[\u001b[0m\u001b[0mattr\u001b[0m\u001b[1;33m]\u001b[0m\u001b[1;33m\u001b[0m\u001b[1;33m\u001b[0m\u001b[0m\n\u001b[0;32m    910\u001b[0m \u001b[1;33m\u001b[0m\u001b[0m\n\u001b[1;32m--> 911\u001b[1;33m         raise AttributeError(\n\u001b[0m\u001b[0;32m    912\u001b[0m             \u001b[1;34mf\"'{type(self).__name__}' object has no attribute '{attr}'\"\u001b[0m\u001b[1;33m\u001b[0m\u001b[1;33m\u001b[0m\u001b[0m\n\u001b[0;32m    913\u001b[0m         )\n",
      "\u001b[1;31mAttributeError\u001b[0m: 'DataFrameGroupBy' object has no attribute 'shape'"
     ]
    }
   ],
   "source": [
    "pair_duplicates=df[['qid1','qid2','is_duplicate']].groupby(['qid1','qid2','is_duplicate'])\n",
    "print(\"number of duplicate questions\".format(pair_duplicates.shape(0)))\n",
    "                   "
   ]
  },
  {
   "cell_type": "code",
   "execution_count": 17,
   "id": "8cdb10b2",
   "metadata": {},
   "outputs": [
    {
     "name": "stderr",
     "output_type": "stream",
     "text": [
      "C:\\Users\\SGCOMP~1\\AppData\\Local\\Temp/ipykernel_2028/582596669.py:3: MatplotlibDeprecationWarning: The 'nonposy' parameter of __init__() has been renamed 'nonpositive' since Matplotlib 3.3; support for the old name will be dropped two minor releases later.\n",
      "  plt.yscale('log',nonposy='clip')\n"
     ]
    },
    {
     "name": "stdout",
     "output_type": "stream",
     "text": [
      "maximum time repeatition of any question is:3\n",
      "\n"
     ]
    },
    {
     "data": {
      "image/png": "[encoded data removed]",
      "text/plain": [
       "<Figure size 1440x720 with 1 Axes>"
      ]
     },
     "metadata": {
      "needs_background": "light"
     },
     "output_type": "display_data"
    }
   ],
   "source": [
    "plt.figure(figsize=(20,10))\n",
    "plt.hist(qids.value_counts(),bins=170)\n",
    "plt.yscale('log',nonposy='clip')\n",
    "plt.title(\"log representation of repeatttion of questions\" )\n",
    "plt.xlabel(\"number of occcurence of questions\")\n",
    "plt.ylabel(\"number of questions\")\n",
    "print(\"maximum time repeatition of any question is:{}\\n\".format(max(qids.value_counts())))"
   ]
  },
  {
   "cell_type": "code",
   "execution_count": 19,
   "id": "60440f1d",
   "metadata": {},
   "outputs": [
    {
     "data": {
      "text/html": [
       "<div>\n",
       "<style scoped>\n",
       "    .dataframe tbody tr th:only-of-type {\n",
       "        vertical-align: middle;\n",
       "    }\n",
       "\n",
       "    .dataframe tbody tr th {\n",
       "        vertical-align: top;\n",
       "    }\n",
       "\n",
       "    .dataframe thead th {\n",
       "        text-align: right;\n",
       "    }\n",
       "</style>\n",
       "<table border=\"1\" class=\"dataframe\">\n",
       "  <thead>\n",
       "    <tr style=\"text-align: right;\">\n",
       "      <th></th>\n",
       "      <th>id</th>\n",
       "      <th>qid1</th>\n",
       "      <th>qid2</th>\n",
       "      <th>question1</th>\n",
       "      <th>question2</th>\n",
       "      <th>is_duplicate</th>\n",
       "      <th>freq_qid1</th>\n",
       "      <th>freq_qid2</th>\n",
       "      <th>q1_len</th>\n",
       "      <th>q2_len</th>\n",
       "      <th>q1_n_words</th>\n",
       "      <th>q2_n_words</th>\n",
       "      <th>word_common</th>\n",
       "      <th>word_total</th>\n",
       "      <th>word_share</th>\n",
       "      <th>freq_q1+q2</th>\n",
       "      <th>freq_q1-q2</th>\n",
       "    </tr>\n",
       "  </thead>\n",
       "  <tbody>\n",
       "    <tr>\n",
       "      <th>0</th>\n",
       "      <td>0</td>\n",
       "      <td>1</td>\n",
       "      <td>2</td>\n",
       "      <td>What is the step by step guide to invest in sh...</td>\n",
       "      <td>What is the step by step guide to invest in sh...</td>\n",
       "      <td>0</td>\n",
       "      <td>1</td>\n",
       "      <td>1</td>\n",
       "      <td>66</td>\n",
       "      <td>57</td>\n",
       "      <td>14</td>\n",
       "      <td>12</td>\n",
       "      <td>10.0</td>\n",
       "      <td>23.0</td>\n",
       "      <td>0.434783</td>\n",
       "      <td>2</td>\n",
       "      <td>0</td>\n",
       "    </tr>\n",
       "    <tr>\n",
       "      <th>1</th>\n",
       "      <td>1</td>\n",
       "      <td>3</td>\n",
       "      <td>4</td>\n",
       "      <td>What is the story of Kohinoor (Koh-i-Noor) Dia...</td>\n",
       "      <td>What would happen if the Indian government sto...</td>\n",
       "      <td>0</td>\n",
       "      <td>1</td>\n",
       "      <td>1</td>\n",
       "      <td>51</td>\n",
       "      <td>88</td>\n",
       "      <td>8</td>\n",
       "      <td>13</td>\n",
       "      <td>4.0</td>\n",
       "      <td>20.0</td>\n",
       "      <td>0.200000</td>\n",
       "      <td>2</td>\n",
       "      <td>0</td>\n",
       "    </tr>\n",
       "    <tr>\n",
       "      <th>2</th>\n",
       "      <td>2</td>\n",
       "      <td>5</td>\n",
       "      <td>6</td>\n",
       "      <td>How can I increase the speed of my internet co...</td>\n",
       "      <td>How can Internet speed be increased by hacking...</td>\n",
       "      <td>0</td>\n",
       "      <td>1</td>\n",
       "      <td>1</td>\n",
       "      <td>73</td>\n",
       "      <td>59</td>\n",
       "      <td>14</td>\n",
       "      <td>10</td>\n",
       "      <td>4.0</td>\n",
       "      <td>24.0</td>\n",
       "      <td>0.166667</td>\n",
       "      <td>2</td>\n",
       "      <td>0</td>\n",
       "    </tr>\n",
       "    <tr>\n",
       "      <th>3</th>\n",
       "      <td>3</td>\n",
       "      <td>7</td>\n",
       "      <td>8</td>\n",
       "      <td>Why am I mentally very lonely? How can I solve...</td>\n",
       "      <td>Find the remainder when [math]23^{24}[/math] i...</td>\n",
       "      <td>0</td>\n",
       "      <td>1</td>\n",
       "      <td>1</td>\n",
       "      <td>50</td>\n",
       "      <td>65</td>\n",
       "      <td>11</td>\n",
       "      <td>9</td>\n",
       "      <td>0.0</td>\n",
       "      <td>19.0</td>\n",
       "      <td>0.000000</td>\n",
       "      <td>2</td>\n",
       "      <td>0</td>\n",
       "    </tr>\n",
       "    <tr>\n",
       "      <th>4</th>\n",
       "      <td>4</td>\n",
       "      <td>9</td>\n",
       "      <td>10</td>\n",
       "      <td>Which one dissolve in water quikly sugar, salt...</td>\n",
       "      <td>Which fish would survive in salt water?</td>\n",
       "      <td>0</td>\n",
       "      <td>1</td>\n",
       "      <td>1</td>\n",
       "      <td>76</td>\n",
       "      <td>39</td>\n",
       "      <td>13</td>\n",
       "      <td>7</td>\n",
       "      <td>2.0</td>\n",
       "      <td>20.0</td>\n",
       "      <td>0.100000</td>\n",
       "      <td>2</td>\n",
       "      <td>0</td>\n",
       "    </tr>\n",
       "  </tbody>\n",
       "</table>\n",
       "</div>"
      ],
      "text/plain": [
       "   id  qid1  qid2                                          question1  \\\n",
       "0   0     1     2  What is the step by step guide to invest in sh...   \n",
       "1   1     3     4  What is the story of Kohinoor (Koh-i-Noor) Dia...   \n",
       "2   2     5     6  How can I increase the speed of my internet co...   \n",
       "3   3     7     8  Why am I mentally very lonely? How can I solve...   \n",
       "4   4     9    10  Which one dissolve in water quikly sugar, salt...   \n",
       "\n",
       "                                           question2  is_duplicate  freq_qid1  \\\n",
       "0  What is the step by step guide to invest in sh...             0          1   \n",
       "1  What would happen if the Indian government sto...             0          1   \n",
       "2  How can Internet speed be increased by hacking...             0          1   \n",
       "3  Find the remainder when [math]23^{24}[/math] i...             0          1   \n",
       "4            Which fish would survive in salt water?             0          1   \n",
       "\n",
       "   freq_qid2  q1_len  q2_len  q1_n_words  q2_n_words  word_common  word_total  \\\n",
       "0          1      66      57          14          12         10.0        23.0   \n",
       "1          1      51      88           8          13          4.0        20.0   \n",
       "2          1      73      59          14          10          4.0        24.0   \n",
       "3          1      50      65          11           9          0.0        19.0   \n",
       "4          1      76      39          13           7          2.0        20.0   \n",
       "\n",
       "   word_share  freq_q1+q2  freq_q1-q2  \n",
       "0    0.434783           2           0  \n",
       "1    0.200000           2           0  \n",
       "2    0.166667           2           0  \n",
       "3    0.000000           2           0  \n",
       "4    0.100000           2           0  "
      ]
     },
     "execution_count": 19,
     "metadata": {},
     "output_type": "execute_result"
    }
   ],
   "source": [
    "if os.path.isfile('df_fe_without_preprocessing_train.csv'):\n",
    "    df=pd.read_csv(\"df_fe_without_preprocessing_train.csv\",encoding='latin')\n",
    "else:\n",
    "    df['freq_id1']=df.groupby('qid1')['qid1'].transform('count')\n",
    "    df['freq_id2']=df.groupby('qid2')['qid2'].transform('count')\n",
    "    df['q1len']=df['question1'].str.len()\n",
    "    df['q2len']=df['question2'].str.len()\n",
    "    df['q1_n_words']=df['question1'].apply(lambda row: len(row.split(\" \")))\n",
    "    df['q2_n_words']=df['question2'].apply(lambda row: len(row.split(\" \")))\n",
    "    \n",
    "    def normalized_word_common(row):\n",
    "        w1=set(map(lambda word: word.lower().strip(),row['question1'].split(\" \")))\n",
    "        w2=set(map(lambda word: word.lower().strip(),row['question2'].split(\" \")))\n",
    "        return 1.0 * len(w1 & w2)\n",
    "    df['word_common']=df.apply(normalized_word_common,axis=1)\n",
    "    \n",
    "    def normalized_word_total(row):\n",
    "        w1=set(map(lambda word:word.lower().strip(),row['question1'].split(\" \")))\n",
    "        w2=set(map(lambda word:word.lower().strip(),row['question2'].split(\" \")))\n",
    "        return 1.0* (len(w1) + len(w2))\n",
    "    df['word_total']=df.apply(normalized_word_total,axis=1)\n",
    "    \n",
    "    def normalized_word_share(row):\n",
    "        w1=set(map(lambda word:word.lower().strip(),row['question1'].split(\" \")))\n",
    "        w2=set(map(lambda word:word.lower().strip(),row['question2'].split(\" \")))\n",
    "        return 1.0* len(w1 & w2)/(len(w1)+len(w2))\n",
    "    df['word_share']=df.apply(normalized_word_share,axis=1)\n",
    "    \n",
    "    df.to_csv(\"df_fe_without_preprocessing_train.csv\",index=False)\n",
    "df.head()"
   ]
  },
  {
   "cell_type": "code",
   "execution_count": 21,
   "id": "61f691ce",
   "metadata": {},
   "outputs": [
    {
     "name": "stdout",
     "output_type": "stream",
     "text": [
      "minimum number of words in question in question1 1\n",
      "minimum number of words in question in question2 1\n",
      "number of questions with minimum length in question1 id              60\n",
      "qid1            60\n",
      "qid2            60\n",
      "question1       59\n",
      "question2       60\n",
      "is_duplicate    60\n",
      "freq_qid1       60\n",
      "freq_qid2       60\n",
      "q1_len          60\n",
      "q2_len          60\n",
      "q1_n_words      60\n",
      "q2_n_words      60\n",
      "word_common     60\n",
      "word_total      60\n",
      "word_share      60\n",
      "freq_q1+q2      60\n",
      "freq_q1-q2      60\n",
      "dtype: int64\n",
      "number of quetions with minimum length in question2 id              25\n",
      "qid1            25\n",
      "qid2            25\n",
      "question1       25\n",
      "question2       23\n",
      "is_duplicate    25\n",
      "freq_qid1       25\n",
      "freq_qid2       25\n",
      "q1_len          25\n",
      "q2_len          25\n",
      "q1_n_words      25\n",
      "q2_n_words      25\n",
      "word_common     25\n",
      "word_total      25\n",
      "word_share      25\n",
      "freq_q1+q2      25\n",
      "freq_q1-q2      25\n",
      "dtype: int64\n"
     ]
    }
   ],
   "source": [
    "print(\"minimum number of words in question in question1\",min(df['q1_n_words']))\n",
    "print(\"minimum number of words in question in question2\",min(df['q2_n_words']))\n",
    "print(\"number of questions with minimum length in question1\",df[df['q1_n_words']==1].count())\n",
    "print(\"number of quetions with minimum length in question2\",df[df['q2_n_words']==1].count())"
   ]
  },
  {
   "cell_type": "markdown",
   "id": "915f03db",
   "metadata": {},
   "source": [
    "## data preprocessing\n",
    "   remove html tags\n",
    "   removre punctuations\n",
    "   remove stopwords\n",
    "   perform stemming\n",
    "   expand contractions"
   ]
  },
  {
   "cell_type": "code",
   "execution_count": 45,
   "id": "ba10d4be",
   "metadata": {},
   "outputs": [],
   "source": [
    "SAFE_DIV=0.0001\n",
    "STOP_WORDS=stopwords.words(\"english\")\n",
    "\n",
    "def preprocess(x):\n",
    "    x=str(x).lower()\n",
    "    x=x.replace(\",000,000\",\"m\").replace(\",000\",\"k\").replace(\"%\",\"percent\").replace(\"₹\",\"rupee\").replace(\"€\",'euro').replace(\"&\",\"and\").replace(\"$\",\"dollar\").replace(\"won't\",\"will not\").replace(\"can't\",\"can not\").replace(\"n't\",\"not\").replace(\"'ve\",\"have\").replace(\"he's\",\"he is\").replace(\"i'm\",\"i am\").replace(\"she's\",\"she is\").replace(\"what's\",\"what is\")\n",
    "    \n",
    "    x=re.sub(r\"([0-9]+)000000\",r\"\\1m\",x)\n",
    "    x=re.sub(r\"([0-9]+)000\",r\"\\1k\",x)\n",
    "    \n",
    "    porter=PorterStemmer()\n",
    "    pattern=re.compile('\\W')\n",
    "    \n",
    "    if type(x)==type(''):\n",
    "        x=re.sub(pattern,' ',x)\n",
    "        \n",
    "    if type(x)==type(''):\n",
    "        x=porter.stem(x)\n",
    "        example1=BeautifulSoup(x)\n",
    "        x=example1.get_text()\n",
    "        \n",
    "    return x"
   ]
  },
  {
   "cell_type": "code",
   "execution_count": 22,
   "id": "eafcd577",
   "metadata": {},
   "outputs": [],
   "source": [
    "def get_token_features(q1,q2):\n",
    "    token_features=[0.0] * 10\n",
    "    #converting the tokens from sentence\n",
    "    q1_token=q1.split()\n",
    "    q2_token=q2.split()\n",
    "    if len(q1_token)==0 or len(q2_token)==0:\n",
    "        return token_feature\n",
    "    # get word not in stopword from token\n",
    "    q1_words=set([word for word in q1_token if word not in STOP_WORDS])\n",
    "    q2_words=set([word for word in q2_token if word not in STOP_WORDS])\n",
    "    #get stopwords from tokens\n",
    "    q1_stop=set([word for word in q1_token if word in STOP_WORDS])\n",
    "    q2_stop=set([word for word in q2_token if word in STOP_WORDS])\n",
    "    common_word_count=len(q1_words.intersection(q2_words))\n",
    "    common_stop_count=len(q1_stop.intersection(q2_stop))\n",
    "    # get common tokens from question pair\n",
    "    common_token_count=len(set(q1_token).intersection(set(q2_token)))\n",
    "    \n",
    "    token_features[0]=common_word_count/(min(len(q1_words),len(q2_words))+SAFE_DIV)\n",
    "    token_features[1]=common_word_count/(max(len(q1_words),len(q2_words))+SAFE_DIV)\n",
    "    token_features[2]=common_stop_count/(min(len(q1_stop),len(q2_stop))+SAFE_DIV)\n",
    "    token_features[3]=common_stop_count/(max(len(q1_stop),len(q2_stop))+SAFE_DIV)\n",
    "    token_features[4]=common_token_count/(min(len(q1_stop),len(q2_stop))+SAFE_DIV)\n",
    "    token_features[5]=common_token_count/(max(len(q1_stop),len(q2_stop))+SAFE_DIV)\n",
    "    \n",
    "    #last word of both question is sme or not\n",
    "    token_features[6]=int(q1_token[-1]==q2_token[-1])\n",
    "    #first word of token is same or not\n",
    "    token_features[7]=int(q1_token[0]==q2_token[0])\n",
    "    \n",
    "    token_features[8]=abs(len(q1_token)-len(q2_token))\n",
    "    #average of length of both questions\n",
    "    token_features[9]=(len(q1_token)+len(q2_token))/2\n",
    "    return token_features\n",
    "\n",
    "def common_longest_substring(a,b):\n",
    "    strs=list(distance.lcsubstrings(a,b))\n",
    "    if len(strs)==0:\n",
    "        return 0\n",
    "    else:\n",
    "        return len(strs[0])/min(len(a),len(b)+1)\n",
    "def extract_features(df):\n",
    "    df['question1']=df['question1'].fillna(\"\").apply(preprocess)\n",
    "    df['question2']=df['question2'].fillna(\"\").apply(preprocess)\n",
    "    print(\"token fratures...\")\n",
    "    df['cwc_min']=list(map(lambda x: x[0],token_features))\n",
    "    df['cwc_max']=list(map(lambda x: x[1],token_features))\n",
    "    df['csc_min']=list(map(lambda x: x[2],token_features))\n",
    "    df['csc_max']=list(map(lambda x: x[3],token_features))\n",
    "    df['ctc_min']=list(map(lambda x: x[4],token_features))\n",
    "    df['ctc_max']=list(map(lambda x: x[5],token_features))\n",
    "    df['last_word_eq']=list(map(lambda x: x[6],token_features))\n",
    "    df['first_word_eq']=list(map(lambda x: x[7],token_features))\n",
    "    df['abs_len_diff']=list(map(lambda x: x[8],token_features))\n",
    "    df['mean_len']=list(map(lambda x:x[9],token_features))\n",
    "    \n",
    "    print(\"fuzzy features...\")\n",
    "    df['token_set_ratio']=df.apply(lambda x: fuzz.token_set_ratio(x['question1'],x['question2']),axis=1)\n",
    "    df['token_sort_ratio']=df.apply(lambda x: fuzz.token_sort_ratio(x['question1'],x['question2']),axis=1)\n",
    "    df['fuzz_ratio']=df.apply(lambda x: fuzz.QRatio(x['question1'],x['question2']),axis=1)\n",
    "    df['fuzz_partial_ratio']=df.apply(lambda x: fuzz.partial_ratio(x['question1'],x['question2']),axis=1)\n",
    "    df['longest_substr_ratio']=df.apply(lambda x: fuzz.get_longest_substr.ratio(x['question1'],['question2']),axis=1)\n",
    "    return df\n"
   ]
  },
  {
   "cell_type": "code",
   "execution_count": 23,
   "id": "7dd4cc2b",
   "metadata": {},
   "outputs": [],
   "source": [
    "def parallelize_dataframe(df,func,n_cores=4):\n",
    "    df_split=np.array_split(df,n_cores)\n",
    "    pool=Pool(n_cores)\n",
    "    df=pd.concat(pool.map(func,df_split))\n",
    "    pool.close()\n",
    "    pool.join()\n",
    "    return df"
   ]
  },
  {
   "cell_type": "code",
   "execution_count": null,
   "id": "95812e94",
   "metadata": {},
   "outputs": [
    {
     "name": "stdout",
     "output_type": "stream",
     "text": [
      "extracing features....\n"
     ]
    }
   ],
   "source": [
    "print(\"extracing features....\")\n",
    "df=pd.read_csv(\"questions.csv\")\n",
    "parallelize_dataframe(df,extract_features)\n",
    "df.to_csv(\"nlp_features_train.csv\")\n",
    "df.head()"
   ]
  },
  {
   "cell_type": "markdown",
   "id": "9d92c673",
   "metadata": {},
   "source": [
    "## analysis of extracted features"
   ]
  },
  {
   "cell_type": "code",
   "execution_count": null,
   "id": "6c2ec874",
   "metadata": {},
   "outputs": [],
   "source": [
    "df_duplicate=df[df[is_duplicate]==1]\n",
    "df_notduplicate=df[df[is_duplicate]==0]\n",
    "# flat the 2d array \n",
    "p=np.dtack([df_duplicate['question1'],df_duplicate['question2']]).flatten()\n",
    "n=np.dstack([df_notduplicate['question1'],df_notduplicate['question2']]).flatten()\n",
    "print(\"number of data points in duplicate class:\",len(p))\n",
    "print(\"number of data points in non_duplicate class:\",len(n))\n",
    "#saving the txt file into txt\n",
    "np.savetxt('train_p.txt',p,delimiter=(' '),fmt='%s')\n",
    "np.savetxt('train_n.txt',p,delimiter=(' '),fmt='%s')"
   ]
  },
  {
   "cell_type": "code",
   "execution_count": null,
   "id": "7eeb1cf6",
   "metadata": {},
   "outputs": [],
   "source": [
    "d=path.dirname(\".\")\n",
    "textp_w=open(path.join(d,\"train_p.txt\")).read()\n",
    "textn_w=open(path.join(d,\"train_n.txt\")).read()\n",
    "stopwords=set(STOP_WORDS)\n",
    "stopwords.add(\"said\")\n",
    "stopwords.add(\"br\")\n",
    "stopwords.remove(\"not\")\n",
    "stopwords.remove(\"no\")\n",
    "stopwords.remove(\"like\")\n",
    "print(\"total number of words in duplicate pair questions:\",len(textp_w))\n",
    "print(\"total number of words in non-duplicate pair questions:\",len(textn_w))"
   ]
  },
  {
   "cell_type": "code",
   "execution_count": null,
   "id": "616a7a78",
   "metadata": {},
   "outputs": [],
   "source": [
    "wc=WordCloud(background_color='white',max_words=len(textp_w),stopwords=stopwords)\n",
    "wc.generate(textp_w)\n",
    "print(\"wordcloud for duplicate question pairs\")\n",
    "plt.imshow(wc,interpolation='bilinear')\n",
    "plt.axis('off')\n",
    "plt.show()"
   ]
  },
  {
   "cell_type": "code",
   "execution_count": null,
   "id": "86d15e3f",
   "metadata": {},
   "outputs": [],
   "source": [
    "wc=WordCloud(background_color='white',max_words=len(textn_w),stopwords=stopwords)\n",
    "wc.generate(textn_w)\n",
    "print(\"wordcloud for no duplicate queston pair\")\n",
    "plt.imshow(wc,interpolation='bilinear')\n",
    "plt.axis('off')\n",
    "plt.show()"
   ]
  },
  {
   "cell_type": "code",
   "execution_count": null,
   "id": "f80312fe",
   "metadata": {},
   "outputs": [],
   "source": [
    "a=np.array([1,2,3,4])\n",
    "print(a[False,True])"
   ]
  },
  {
   "cell_type": "code",
   "execution_count": null,
   "id": "87ebea40",
   "metadata": {},
   "outputs": [],
   "source": [
    "import math\n",
    "print(math.pow(2,10))"
   ]
  },
  {
   "cell_type": "code",
   "execution_count": null,
   "id": "e707cd4c",
   "metadata": {},
   "outputs": [],
   "source": []
  }
 ],
 "metadata": {
  "kernelspec": {
   "display_name": "Python 3 (ipykernel)",
   "language": "python",
   "name": "python3"
  },
  "language_info": {
   "codemirror_mode": {
    "name": "ipython",
    "version": 3
   },
   "file_extension": ".py",
   "mimetype": "text/x-python",
   "name": "python",
   "nbconvert_exporter": "python",
   "pygments_lexer": "ipython3",
   "version": "3.9.7"
  }
 },
 "nbformat": 4,
 "nbformat_minor": 5
}
